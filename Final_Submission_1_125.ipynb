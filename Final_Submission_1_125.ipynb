{
  "nbformat": 4,
  "nbformat_minor": 0,
  "metadata": {
    "colab": {
      "provenance": []
    },
    "kernelspec": {
      "name": "python3",
      "display_name": "Python 3"
    },
    "language_info": {
      "name": "python"
    }
  },
  "cells": [
    {
      "cell_type": "code",
      "execution_count": 1,
      "metadata": {
        "id": "WQnQBi2ost3j"
      },
      "outputs": [],
      "source": [
        "#file to count the word HOSPITAL \n",
        "import numpy as np\n",
        "import pandas as pd\n",
        "import matplotlib.pyplot as plt"
      ]
    },
    {
      "cell_type": "code",
      "source": [
        "def extract_no_hospitals(inputText):\n",
        "  # convert inputText to lower case\n",
        "  if type(inputText) != str:\n",
        "    return 0\n",
        "\n",
        "  if \"HOSPITAL7\" in inputText:\n",
        "    result = 7\n",
        "  elif \"HOSPITAL6\" in inputText:\n",
        "    result = 6\n",
        "  elif \"HOSPITAL5\" in inputText:\n",
        "    result = 5\n",
        "  elif \"HOSPITAL4\" in inputText:\n",
        "    result = 4\n",
        "  elif \"HOSPITAL3\" in inputText:\n",
        "    result = 3\n",
        "  elif \"HOSPITAL2\" in inputText:\n",
        "    result = 2\n",
        "  elif \"HOSPITAL\" in inputText:\n",
        "    result = 1\n",
        "  else:\n",
        "    result = 0\n",
        "\n",
        "  return result"
      ],
      "metadata": {
        "id": "APcn2zNHyIiF"
      },
      "execution_count": 2,
      "outputs": []
    },
    {
      "cell_type": "code",
      "source": [
        "# temp = \"hospital1, hospital2, hospital3, Hospital, HOSPITAL\"\n",
        "# \"hospital\" in temp"
      ],
      "metadata": {
        "id": "k5xCErR0ySLH"
      },
      "execution_count": 3,
      "outputs": []
    },
    {
      "cell_type": "code",
      "source": [
        "data = pd.read_csv(\"data_verbal_autopsies.csv\")"
      ],
      "metadata": {
        "id": "06AHuzwlwviu"
      },
      "execution_count": 4,
      "outputs": []
    },
    {
      "cell_type": "code",
      "source": [
        "data.shape[0]"
      ],
      "metadata": {
        "colab": {
          "base_uri": "https://localhost:8080/"
        },
        "id": "DuEcyeN_VRsk",
        "outputId": "429ca4d3-ac0c-4fdc-bfa0-8e5b99b670d1"
      },
      "execution_count": 5,
      "outputs": [
        {
          "output_type": "execute_result",
          "data": {
            "text/plain": [
              "7582"
            ]
          },
          "metadata": {},
          "execution_count": 5
        }
      ]
    },
    {
      "cell_type": "code",
      "source": [
        "data = data.drop(labels=[0,data.shape[0]-1], axis=0)\n",
        "data.head()"
      ],
      "metadata": {
        "colab": {
          "base_uri": "https://localhost:8080/",
          "height": 560
        },
        "id": "H6nQ6desx0tY",
        "outputId": "1b5baafe-8a86-4dc5-950c-06e999bfcc59"
      },
      "execution_count": 6,
      "outputs": [
        {
          "output_type": "execute_result",
          "data": {
            "text/plain": [
              "   Unnamed: 0 newid site_x gs_text34_x sex age_years  \\\n",
              "1         0.0     1      1           1   1        51   \n",
              "2         1.0     2      2           2   1        24   \n",
              "3         2.0     3      2           3   2        62   \n",
              "4         3.0     4      1           4   2        80   \n",
              "5         4.0     5      3           5   1        76   \n",
              "\n",
              "                                       open_response  \\\n",
              "1  no comments.[PERSON] only told us what happene...   \n",
              "2  [PATIENT] was suffering for the last two years...   \n",
              "3  she has stopped consuming tablets for b.p and ...   \n",
              "4  my mother's condition was already very poor du...   \n",
              "5  the deceased suffered a heart attack 2 days ag...   \n",
              "\n",
              "                     Annotation_1                   Annotation_2 Annotation_3  \\\n",
              "1      unstable living conditions                            NaN          NaN   \n",
              "2  denied care at referral centre  denied care at fever hospital          NaN   \n",
              "3   no-one to collect medications                            NaN          NaN   \n",
              "4               private treatment                            NaN          NaN   \n",
              "5               private treatment                            NaN          NaN   \n",
              "\n",
              "   ... a6_02_13 a6_02_14 a6_02_15 a6_04 a6_05  a6_06_1d   a6_06_2d   \\\n",
              "1  ...        1        1        1     1     1        NaN        NaN   \n",
              "2  ...        1        1        1     1     1        NaN        NaN   \n",
              "3  ...        1        1        1     1     1        NaN        NaN   \n",
              "4  ...        1        1        1     1     1        NaN        NaN   \n",
              "5  ...        1        1        1     1     1        NaN        NaN   \n",
              "\n",
              "  total_visits_on_health_record_card a6_09 a6_10  \n",
              "1                                  0     0     1  \n",
              "2                                NaN     0     1  \n",
              "3                                NaN     0     1  \n",
              "4                                NaN     0     1  \n",
              "5                                NaN     0     1  \n",
              "\n",
              "[5 rows x 109 columns]"
            ],
            "text/html": [
              "\n",
              "  <div id=\"df-662fc853-27b7-425a-ac23-76f63e08b79b\">\n",
              "    <div class=\"colab-df-container\">\n",
              "      <div>\n",
              "<style scoped>\n",
              "    .dataframe tbody tr th:only-of-type {\n",
              "        vertical-align: middle;\n",
              "    }\n",
              "\n",
              "    .dataframe tbody tr th {\n",
              "        vertical-align: top;\n",
              "    }\n",
              "\n",
              "    .dataframe thead th {\n",
              "        text-align: right;\n",
              "    }\n",
              "</style>\n",
              "<table border=\"1\" class=\"dataframe\">\n",
              "  <thead>\n",
              "    <tr style=\"text-align: right;\">\n",
              "      <th></th>\n",
              "      <th>Unnamed: 0</th>\n",
              "      <th>newid</th>\n",
              "      <th>site_x</th>\n",
              "      <th>gs_text34_x</th>\n",
              "      <th>sex</th>\n",
              "      <th>age_years</th>\n",
              "      <th>open_response</th>\n",
              "      <th>Annotation_1</th>\n",
              "      <th>Annotation_2</th>\n",
              "      <th>Annotation_3</th>\n",
              "      <th>...</th>\n",
              "      <th>a6_02_13</th>\n",
              "      <th>a6_02_14</th>\n",
              "      <th>a6_02_15</th>\n",
              "      <th>a6_04</th>\n",
              "      <th>a6_05</th>\n",
              "      <th>a6_06_1d</th>\n",
              "      <th>a6_06_2d</th>\n",
              "      <th>total_visits_on_health_record_card</th>\n",
              "      <th>a6_09</th>\n",
              "      <th>a6_10</th>\n",
              "    </tr>\n",
              "  </thead>\n",
              "  <tbody>\n",
              "    <tr>\n",
              "      <th>1</th>\n",
              "      <td>0.0</td>\n",
              "      <td>1</td>\n",
              "      <td>1</td>\n",
              "      <td>1</td>\n",
              "      <td>1</td>\n",
              "      <td>51</td>\n",
              "      <td>no comments.[PERSON] only told us what happene...</td>\n",
              "      <td>unstable living conditions</td>\n",
              "      <td>NaN</td>\n",
              "      <td>NaN</td>\n",
              "      <td>...</td>\n",
              "      <td>1</td>\n",
              "      <td>1</td>\n",
              "      <td>1</td>\n",
              "      <td>1</td>\n",
              "      <td>1</td>\n",
              "      <td>NaN</td>\n",
              "      <td>NaN</td>\n",
              "      <td>0</td>\n",
              "      <td>0</td>\n",
              "      <td>1</td>\n",
              "    </tr>\n",
              "    <tr>\n",
              "      <th>2</th>\n",
              "      <td>1.0</td>\n",
              "      <td>2</td>\n",
              "      <td>2</td>\n",
              "      <td>2</td>\n",
              "      <td>1</td>\n",
              "      <td>24</td>\n",
              "      <td>[PATIENT] was suffering for the last two years...</td>\n",
              "      <td>denied care at referral centre</td>\n",
              "      <td>denied care at fever hospital</td>\n",
              "      <td>NaN</td>\n",
              "      <td>...</td>\n",
              "      <td>1</td>\n",
              "      <td>1</td>\n",
              "      <td>1</td>\n",
              "      <td>1</td>\n",
              "      <td>1</td>\n",
              "      <td>NaN</td>\n",
              "      <td>NaN</td>\n",
              "      <td>NaN</td>\n",
              "      <td>0</td>\n",
              "      <td>1</td>\n",
              "    </tr>\n",
              "    <tr>\n",
              "      <th>3</th>\n",
              "      <td>2.0</td>\n",
              "      <td>3</td>\n",
              "      <td>2</td>\n",
              "      <td>3</td>\n",
              "      <td>2</td>\n",
              "      <td>62</td>\n",
              "      <td>she has stopped consuming tablets for b.p and ...</td>\n",
              "      <td>no-one to collect medications</td>\n",
              "      <td>NaN</td>\n",
              "      <td>NaN</td>\n",
              "      <td>...</td>\n",
              "      <td>1</td>\n",
              "      <td>1</td>\n",
              "      <td>1</td>\n",
              "      <td>1</td>\n",
              "      <td>1</td>\n",
              "      <td>NaN</td>\n",
              "      <td>NaN</td>\n",
              "      <td>NaN</td>\n",
              "      <td>0</td>\n",
              "      <td>1</td>\n",
              "    </tr>\n",
              "    <tr>\n",
              "      <th>4</th>\n",
              "      <td>3.0</td>\n",
              "      <td>4</td>\n",
              "      <td>1</td>\n",
              "      <td>4</td>\n",
              "      <td>2</td>\n",
              "      <td>80</td>\n",
              "      <td>my mother's condition was already very poor du...</td>\n",
              "      <td>private treatment</td>\n",
              "      <td>NaN</td>\n",
              "      <td>NaN</td>\n",
              "      <td>...</td>\n",
              "      <td>1</td>\n",
              "      <td>1</td>\n",
              "      <td>1</td>\n",
              "      <td>1</td>\n",
              "      <td>1</td>\n",
              "      <td>NaN</td>\n",
              "      <td>NaN</td>\n",
              "      <td>NaN</td>\n",
              "      <td>0</td>\n",
              "      <td>1</td>\n",
              "    </tr>\n",
              "    <tr>\n",
              "      <th>5</th>\n",
              "      <td>4.0</td>\n",
              "      <td>5</td>\n",
              "      <td>3</td>\n",
              "      <td>5</td>\n",
              "      <td>1</td>\n",
              "      <td>76</td>\n",
              "      <td>the deceased suffered a heart attack 2 days ag...</td>\n",
              "      <td>private treatment</td>\n",
              "      <td>NaN</td>\n",
              "      <td>NaN</td>\n",
              "      <td>...</td>\n",
              "      <td>1</td>\n",
              "      <td>1</td>\n",
              "      <td>1</td>\n",
              "      <td>1</td>\n",
              "      <td>1</td>\n",
              "      <td>NaN</td>\n",
              "      <td>NaN</td>\n",
              "      <td>NaN</td>\n",
              "      <td>0</td>\n",
              "      <td>1</td>\n",
              "    </tr>\n",
              "  </tbody>\n",
              "</table>\n",
              "<p>5 rows × 109 columns</p>\n",
              "</div>\n",
              "      <button class=\"colab-df-convert\" onclick=\"convertToInteractive('df-662fc853-27b7-425a-ac23-76f63e08b79b')\"\n",
              "              title=\"Convert this dataframe to an interactive table.\"\n",
              "              style=\"display:none;\">\n",
              "        \n",
              "  <svg xmlns=\"http://www.w3.org/2000/svg\" height=\"24px\"viewBox=\"0 0 24 24\"\n",
              "       width=\"24px\">\n",
              "    <path d=\"M0 0h24v24H0V0z\" fill=\"none\"/>\n",
              "    <path d=\"M18.56 5.44l.94 2.06.94-2.06 2.06-.94-2.06-.94-.94-2.06-.94 2.06-2.06.94zm-11 1L8.5 8.5l.94-2.06 2.06-.94-2.06-.94L8.5 2.5l-.94 2.06-2.06.94zm10 10l.94 2.06.94-2.06 2.06-.94-2.06-.94-.94-2.06-.94 2.06-2.06.94z\"/><path d=\"M17.41 7.96l-1.37-1.37c-.4-.4-.92-.59-1.43-.59-.52 0-1.04.2-1.43.59L10.3 9.45l-7.72 7.72c-.78.78-.78 2.05 0 2.83L4 21.41c.39.39.9.59 1.41.59.51 0 1.02-.2 1.41-.59l7.78-7.78 2.81-2.81c.8-.78.8-2.07 0-2.86zM5.41 20L4 18.59l7.72-7.72 1.47 1.35L5.41 20z\"/>\n",
              "  </svg>\n",
              "      </button>\n",
              "      \n",
              "  <style>\n",
              "    .colab-df-container {\n",
              "      display:flex;\n",
              "      flex-wrap:wrap;\n",
              "      gap: 12px;\n",
              "    }\n",
              "\n",
              "    .colab-df-convert {\n",
              "      background-color: #E8F0FE;\n",
              "      border: none;\n",
              "      border-radius: 50%;\n",
              "      cursor: pointer;\n",
              "      display: none;\n",
              "      fill: #1967D2;\n",
              "      height: 32px;\n",
              "      padding: 0 0 0 0;\n",
              "      width: 32px;\n",
              "    }\n",
              "\n",
              "    .colab-df-convert:hover {\n",
              "      background-color: #E2EBFA;\n",
              "      box-shadow: 0px 1px 2px rgba(60, 64, 67, 0.3), 0px 1px 3px 1px rgba(60, 64, 67, 0.15);\n",
              "      fill: #174EA6;\n",
              "    }\n",
              "\n",
              "    [theme=dark] .colab-df-convert {\n",
              "      background-color: #3B4455;\n",
              "      fill: #D2E3FC;\n",
              "    }\n",
              "\n",
              "    [theme=dark] .colab-df-convert:hover {\n",
              "      background-color: #434B5C;\n",
              "      box-shadow: 0px 1px 3px 1px rgba(0, 0, 0, 0.15);\n",
              "      filter: drop-shadow(0px 1px 2px rgba(0, 0, 0, 0.3));\n",
              "      fill: #FFFFFF;\n",
              "    }\n",
              "  </style>\n",
              "\n",
              "      <script>\n",
              "        const buttonEl =\n",
              "          document.querySelector('#df-662fc853-27b7-425a-ac23-76f63e08b79b button.colab-df-convert');\n",
              "        buttonEl.style.display =\n",
              "          google.colab.kernel.accessAllowed ? 'block' : 'none';\n",
              "\n",
              "        async function convertToInteractive(key) {\n",
              "          const element = document.querySelector('#df-662fc853-27b7-425a-ac23-76f63e08b79b');\n",
              "          const dataTable =\n",
              "            await google.colab.kernel.invokeFunction('convertToInteractive',\n",
              "                                                     [key], {});\n",
              "          if (!dataTable) return;\n",
              "\n",
              "          const docLinkHtml = 'Like what you see? Visit the ' +\n",
              "            '<a target=\"_blank\" href=https://colab.research.google.com/notebooks/data_table.ipynb>data table notebook</a>'\n",
              "            + ' to learn more about interactive tables.';\n",
              "          element.innerHTML = '';\n",
              "          dataTable['output_type'] = 'display_data';\n",
              "          await google.colab.output.renderOutput(dataTable, element);\n",
              "          const docLink = document.createElement('div');\n",
              "          docLink.innerHTML = docLinkHtml;\n",
              "          element.appendChild(docLink);\n",
              "        }\n",
              "      </script>\n",
              "    </div>\n",
              "  </div>\n",
              "  "
            ]
          },
          "metadata": {},
          "execution_count": 6
        }
      ]
    },
    {
      "cell_type": "code",
      "source": [
        "data.tail()"
      ],
      "metadata": {
        "colab": {
          "base_uri": "https://localhost:8080/",
          "height": 525
        },
        "id": "gzQJKu5UVhr8",
        "outputId": "a931b058-b37c-483e-d3b9-6fb740af477b"
      },
      "execution_count": 7,
      "outputs": [
        {
          "output_type": "execute_result",
          "data": {
            "text/plain": [
              "      Unnamed: 0 newid site_x gs_text34_x sex age_years  \\\n",
              "7576      7575.0  7842      1          22   2        52   \n",
              "7577      7576.0  7843      4          12   2        78   \n",
              "7578      7577.0  7844      2          31   2        25   \n",
              "7579      7578.0  7845      3           6   2        22   \n",
              "7580      7579.0  7846      4          33   1        90   \n",
              "\n",
              "                                          open_response Annotation_1  \\\n",
              "7576  my aunt had been diabetic for the past 9 year....          NaN   \n",
              "7577  the participant had nothing to comment on\\r\\r\\...          NaN   \n",
              "7578  she opened the tailoring shop in the center be...          NaN   \n",
              "7579  the deceased had been suffering from pain in t...          NaN   \n",
              "7580                 the client thanked for the service          NaN   \n",
              "\n",
              "     Annotation_2 Annotation_3  ... a6_02_13 a6_02_14 a6_02_15 a6_04 a6_05  \\\n",
              "7576          NaN          NaN  ...        1        1        1     0     0   \n",
              "7577          NaN          NaN  ...        1        1        1     1     1   \n",
              "7578          NaN          NaN  ...        1        1        1     1     1   \n",
              "7579          NaN          NaN  ...        1        1        1     1     1   \n",
              "7580          NaN          NaN  ...        1        1        1     1     1   \n",
              "\n",
              "      a6_06_1d   a6_06_2d  total_visits_on_health_record_card a6_09 a6_10  \n",
              "7576         7          9                                 NaN     0     0  \n",
              "7577        NaN        NaN                                NaN     0     1  \n",
              "7578        NaN        NaN                                NaN     1     1  \n",
              "7579        NaN        NaN                                NaN     0     1  \n",
              "7580        NaN        NaN                                NaN     1     1  \n",
              "\n",
              "[5 rows x 109 columns]"
            ],
            "text/html": [
              "\n",
              "  <div id=\"df-259b5956-b61d-455b-b463-b48316b5fbf1\">\n",
              "    <div class=\"colab-df-container\">\n",
              "      <div>\n",
              "<style scoped>\n",
              "    .dataframe tbody tr th:only-of-type {\n",
              "        vertical-align: middle;\n",
              "    }\n",
              "\n",
              "    .dataframe tbody tr th {\n",
              "        vertical-align: top;\n",
              "    }\n",
              "\n",
              "    .dataframe thead th {\n",
              "        text-align: right;\n",
              "    }\n",
              "</style>\n",
              "<table border=\"1\" class=\"dataframe\">\n",
              "  <thead>\n",
              "    <tr style=\"text-align: right;\">\n",
              "      <th></th>\n",
              "      <th>Unnamed: 0</th>\n",
              "      <th>newid</th>\n",
              "      <th>site_x</th>\n",
              "      <th>gs_text34_x</th>\n",
              "      <th>sex</th>\n",
              "      <th>age_years</th>\n",
              "      <th>open_response</th>\n",
              "      <th>Annotation_1</th>\n",
              "      <th>Annotation_2</th>\n",
              "      <th>Annotation_3</th>\n",
              "      <th>...</th>\n",
              "      <th>a6_02_13</th>\n",
              "      <th>a6_02_14</th>\n",
              "      <th>a6_02_15</th>\n",
              "      <th>a6_04</th>\n",
              "      <th>a6_05</th>\n",
              "      <th>a6_06_1d</th>\n",
              "      <th>a6_06_2d</th>\n",
              "      <th>total_visits_on_health_record_card</th>\n",
              "      <th>a6_09</th>\n",
              "      <th>a6_10</th>\n",
              "    </tr>\n",
              "  </thead>\n",
              "  <tbody>\n",
              "    <tr>\n",
              "      <th>7576</th>\n",
              "      <td>7575.0</td>\n",
              "      <td>7842</td>\n",
              "      <td>1</td>\n",
              "      <td>22</td>\n",
              "      <td>2</td>\n",
              "      <td>52</td>\n",
              "      <td>my aunt had been diabetic for the past 9 year....</td>\n",
              "      <td>NaN</td>\n",
              "      <td>NaN</td>\n",
              "      <td>NaN</td>\n",
              "      <td>...</td>\n",
              "      <td>1</td>\n",
              "      <td>1</td>\n",
              "      <td>1</td>\n",
              "      <td>0</td>\n",
              "      <td>0</td>\n",
              "      <td>7</td>\n",
              "      <td>9</td>\n",
              "      <td>NaN</td>\n",
              "      <td>0</td>\n",
              "      <td>0</td>\n",
              "    </tr>\n",
              "    <tr>\n",
              "      <th>7577</th>\n",
              "      <td>7576.0</td>\n",
              "      <td>7843</td>\n",
              "      <td>4</td>\n",
              "      <td>12</td>\n",
              "      <td>2</td>\n",
              "      <td>78</td>\n",
              "      <td>the participant had nothing to comment on\\r\\r\\...</td>\n",
              "      <td>NaN</td>\n",
              "      <td>NaN</td>\n",
              "      <td>NaN</td>\n",
              "      <td>...</td>\n",
              "      <td>1</td>\n",
              "      <td>1</td>\n",
              "      <td>1</td>\n",
              "      <td>1</td>\n",
              "      <td>1</td>\n",
              "      <td>NaN</td>\n",
              "      <td>NaN</td>\n",
              "      <td>NaN</td>\n",
              "      <td>0</td>\n",
              "      <td>1</td>\n",
              "    </tr>\n",
              "    <tr>\n",
              "      <th>7578</th>\n",
              "      <td>7577.0</td>\n",
              "      <td>7844</td>\n",
              "      <td>2</td>\n",
              "      <td>31</td>\n",
              "      <td>2</td>\n",
              "      <td>25</td>\n",
              "      <td>she opened the tailoring shop in the center be...</td>\n",
              "      <td>NaN</td>\n",
              "      <td>NaN</td>\n",
              "      <td>NaN</td>\n",
              "      <td>...</td>\n",
              "      <td>1</td>\n",
              "      <td>1</td>\n",
              "      <td>1</td>\n",
              "      <td>1</td>\n",
              "      <td>1</td>\n",
              "      <td>NaN</td>\n",
              "      <td>NaN</td>\n",
              "      <td>NaN</td>\n",
              "      <td>1</td>\n",
              "      <td>1</td>\n",
              "    </tr>\n",
              "    <tr>\n",
              "      <th>7579</th>\n",
              "      <td>7578.0</td>\n",
              "      <td>7845</td>\n",
              "      <td>3</td>\n",
              "      <td>6</td>\n",
              "      <td>2</td>\n",
              "      <td>22</td>\n",
              "      <td>the deceased had been suffering from pain in t...</td>\n",
              "      <td>NaN</td>\n",
              "      <td>NaN</td>\n",
              "      <td>NaN</td>\n",
              "      <td>...</td>\n",
              "      <td>1</td>\n",
              "      <td>1</td>\n",
              "      <td>1</td>\n",
              "      <td>1</td>\n",
              "      <td>1</td>\n",
              "      <td>NaN</td>\n",
              "      <td>NaN</td>\n",
              "      <td>NaN</td>\n",
              "      <td>0</td>\n",
              "      <td>1</td>\n",
              "    </tr>\n",
              "    <tr>\n",
              "      <th>7580</th>\n",
              "      <td>7579.0</td>\n",
              "      <td>7846</td>\n",
              "      <td>4</td>\n",
              "      <td>33</td>\n",
              "      <td>1</td>\n",
              "      <td>90</td>\n",
              "      <td>the client thanked for the service</td>\n",
              "      <td>NaN</td>\n",
              "      <td>NaN</td>\n",
              "      <td>NaN</td>\n",
              "      <td>...</td>\n",
              "      <td>1</td>\n",
              "      <td>1</td>\n",
              "      <td>1</td>\n",
              "      <td>1</td>\n",
              "      <td>1</td>\n",
              "      <td>NaN</td>\n",
              "      <td>NaN</td>\n",
              "      <td>NaN</td>\n",
              "      <td>1</td>\n",
              "      <td>1</td>\n",
              "    </tr>\n",
              "  </tbody>\n",
              "</table>\n",
              "<p>5 rows × 109 columns</p>\n",
              "</div>\n",
              "      <button class=\"colab-df-convert\" onclick=\"convertToInteractive('df-259b5956-b61d-455b-b463-b48316b5fbf1')\"\n",
              "              title=\"Convert this dataframe to an interactive table.\"\n",
              "              style=\"display:none;\">\n",
              "        \n",
              "  <svg xmlns=\"http://www.w3.org/2000/svg\" height=\"24px\"viewBox=\"0 0 24 24\"\n",
              "       width=\"24px\">\n",
              "    <path d=\"M0 0h24v24H0V0z\" fill=\"none\"/>\n",
              "    <path d=\"M18.56 5.44l.94 2.06.94-2.06 2.06-.94-2.06-.94-.94-2.06-.94 2.06-2.06.94zm-11 1L8.5 8.5l.94-2.06 2.06-.94-2.06-.94L8.5 2.5l-.94 2.06-2.06.94zm10 10l.94 2.06.94-2.06 2.06-.94-2.06-.94-.94-2.06-.94 2.06-2.06.94z\"/><path d=\"M17.41 7.96l-1.37-1.37c-.4-.4-.92-.59-1.43-.59-.52 0-1.04.2-1.43.59L10.3 9.45l-7.72 7.72c-.78.78-.78 2.05 0 2.83L4 21.41c.39.39.9.59 1.41.59.51 0 1.02-.2 1.41-.59l7.78-7.78 2.81-2.81c.8-.78.8-2.07 0-2.86zM5.41 20L4 18.59l7.72-7.72 1.47 1.35L5.41 20z\"/>\n",
              "  </svg>\n",
              "      </button>\n",
              "      \n",
              "  <style>\n",
              "    .colab-df-container {\n",
              "      display:flex;\n",
              "      flex-wrap:wrap;\n",
              "      gap: 12px;\n",
              "    }\n",
              "\n",
              "    .colab-df-convert {\n",
              "      background-color: #E8F0FE;\n",
              "      border: none;\n",
              "      border-radius: 50%;\n",
              "      cursor: pointer;\n",
              "      display: none;\n",
              "      fill: #1967D2;\n",
              "      height: 32px;\n",
              "      padding: 0 0 0 0;\n",
              "      width: 32px;\n",
              "    }\n",
              "\n",
              "    .colab-df-convert:hover {\n",
              "      background-color: #E2EBFA;\n",
              "      box-shadow: 0px 1px 2px rgba(60, 64, 67, 0.3), 0px 1px 3px 1px rgba(60, 64, 67, 0.15);\n",
              "      fill: #174EA6;\n",
              "    }\n",
              "\n",
              "    [theme=dark] .colab-df-convert {\n",
              "      background-color: #3B4455;\n",
              "      fill: #D2E3FC;\n",
              "    }\n",
              "\n",
              "    [theme=dark] .colab-df-convert:hover {\n",
              "      background-color: #434B5C;\n",
              "      box-shadow: 0px 1px 3px 1px rgba(0, 0, 0, 0.15);\n",
              "      filter: drop-shadow(0px 1px 2px rgba(0, 0, 0, 0.3));\n",
              "      fill: #FFFFFF;\n",
              "    }\n",
              "  </style>\n",
              "\n",
              "      <script>\n",
              "        const buttonEl =\n",
              "          document.querySelector('#df-259b5956-b61d-455b-b463-b48316b5fbf1 button.colab-df-convert');\n",
              "        buttonEl.style.display =\n",
              "          google.colab.kernel.accessAllowed ? 'block' : 'none';\n",
              "\n",
              "        async function convertToInteractive(key) {\n",
              "          const element = document.querySelector('#df-259b5956-b61d-455b-b463-b48316b5fbf1');\n",
              "          const dataTable =\n",
              "            await google.colab.kernel.invokeFunction('convertToInteractive',\n",
              "                                                     [key], {});\n",
              "          if (!dataTable) return;\n",
              "\n",
              "          const docLinkHtml = 'Like what you see? Visit the ' +\n",
              "            '<a target=\"_blank\" href=https://colab.research.google.com/notebooks/data_table.ipynb>data table notebook</a>'\n",
              "            + ' to learn more about interactive tables.';\n",
              "          element.innerHTML = '';\n",
              "          dataTable['output_type'] = 'display_data';\n",
              "          await google.colab.output.renderOutput(dataTable, element);\n",
              "          const docLink = document.createElement('div');\n",
              "          docLink.innerHTML = docLinkHtml;\n",
              "          element.appendChild(docLink);\n",
              "        }\n",
              "      </script>\n",
              "    </div>\n",
              "  </div>\n",
              "  "
            ]
          },
          "metadata": {},
          "execution_count": 7
        }
      ]
    },
    {
      "cell_type": "code",
      "source": [
        "data['nhospitals'] = data['open_response'].apply(extract_no_hospitals)"
      ],
      "metadata": {
        "id": "3XYTLh_VyHeS"
      },
      "execution_count": 8,
      "outputs": []
    },
    {
      "cell_type": "code",
      "source": [
        "extract_no_hospitals(data['open_response'][1])"
      ],
      "metadata": {
        "colab": {
          "base_uri": "https://localhost:8080/"
        },
        "id": "cjIZ2yUP3HsQ",
        "outputId": "673b59e2-c93e-47b7-b43d-ed949f7a50c6"
      },
      "execution_count": 9,
      "outputs": [
        {
          "output_type": "execute_result",
          "data": {
            "text/plain": [
              "0"
            ]
          },
          "metadata": {},
          "execution_count": 9
        }
      ]
    },
    {
      "cell_type": "code",
      "source": [
        "data[['open_response', 'nhospitals']].head(10)"
      ],
      "metadata": {
        "colab": {
          "base_uri": "https://localhost:8080/",
          "height": 363
        },
        "id": "jVNChQ5o316N",
        "outputId": "71ae905e-ea96-4500-b41b-5e0c8f7f4d5c"
      },
      "execution_count": 10,
      "outputs": [
        {
          "output_type": "execute_result",
          "data": {
            "text/plain": [
              "                                        open_response  nhospitals\n",
              "1   no comments.[PERSON] only told us what happene...           0\n",
              "2   [PATIENT] was suffering for the last two years...           3\n",
              "3   she has stopped consuming tablets for b.p and ...           3\n",
              "4   my mother's condition was already very poor du...           0\n",
              "5   the deceased suffered a heart attack 2 days ag...           1\n",
              "6   the deceased had been burnt and had lost menta...           0\n",
              "7   the client thanked for the service\\r\\r\\nshe sa...           0\n",
              "8   the participant explaned that the deceased was...           0\n",
              "9   it was month of august [YEAR], when the deceas...           2\n",
              "10  the deceased had been 3 months pregnant. 2 day...           1"
            ],
            "text/html": [
              "\n",
              "  <div id=\"df-d1916c57-b9e8-46db-b982-8335a12ece5d\">\n",
              "    <div class=\"colab-df-container\">\n",
              "      <div>\n",
              "<style scoped>\n",
              "    .dataframe tbody tr th:only-of-type {\n",
              "        vertical-align: middle;\n",
              "    }\n",
              "\n",
              "    .dataframe tbody tr th {\n",
              "        vertical-align: top;\n",
              "    }\n",
              "\n",
              "    .dataframe thead th {\n",
              "        text-align: right;\n",
              "    }\n",
              "</style>\n",
              "<table border=\"1\" class=\"dataframe\">\n",
              "  <thead>\n",
              "    <tr style=\"text-align: right;\">\n",
              "      <th></th>\n",
              "      <th>open_response</th>\n",
              "      <th>nhospitals</th>\n",
              "    </tr>\n",
              "  </thead>\n",
              "  <tbody>\n",
              "    <tr>\n",
              "      <th>1</th>\n",
              "      <td>no comments.[PERSON] only told us what happene...</td>\n",
              "      <td>0</td>\n",
              "    </tr>\n",
              "    <tr>\n",
              "      <th>2</th>\n",
              "      <td>[PATIENT] was suffering for the last two years...</td>\n",
              "      <td>3</td>\n",
              "    </tr>\n",
              "    <tr>\n",
              "      <th>3</th>\n",
              "      <td>she has stopped consuming tablets for b.p and ...</td>\n",
              "      <td>3</td>\n",
              "    </tr>\n",
              "    <tr>\n",
              "      <th>4</th>\n",
              "      <td>my mother's condition was already very poor du...</td>\n",
              "      <td>0</td>\n",
              "    </tr>\n",
              "    <tr>\n",
              "      <th>5</th>\n",
              "      <td>the deceased suffered a heart attack 2 days ag...</td>\n",
              "      <td>1</td>\n",
              "    </tr>\n",
              "    <tr>\n",
              "      <th>6</th>\n",
              "      <td>the deceased had been burnt and had lost menta...</td>\n",
              "      <td>0</td>\n",
              "    </tr>\n",
              "    <tr>\n",
              "      <th>7</th>\n",
              "      <td>the client thanked for the service\\r\\r\\nshe sa...</td>\n",
              "      <td>0</td>\n",
              "    </tr>\n",
              "    <tr>\n",
              "      <th>8</th>\n",
              "      <td>the participant explaned that the deceased was...</td>\n",
              "      <td>0</td>\n",
              "    </tr>\n",
              "    <tr>\n",
              "      <th>9</th>\n",
              "      <td>it was month of august [YEAR], when the deceas...</td>\n",
              "      <td>2</td>\n",
              "    </tr>\n",
              "    <tr>\n",
              "      <th>10</th>\n",
              "      <td>the deceased had been 3 months pregnant. 2 day...</td>\n",
              "      <td>1</td>\n",
              "    </tr>\n",
              "  </tbody>\n",
              "</table>\n",
              "</div>\n",
              "      <button class=\"colab-df-convert\" onclick=\"convertToInteractive('df-d1916c57-b9e8-46db-b982-8335a12ece5d')\"\n",
              "              title=\"Convert this dataframe to an interactive table.\"\n",
              "              style=\"display:none;\">\n",
              "        \n",
              "  <svg xmlns=\"http://www.w3.org/2000/svg\" height=\"24px\"viewBox=\"0 0 24 24\"\n",
              "       width=\"24px\">\n",
              "    <path d=\"M0 0h24v24H0V0z\" fill=\"none\"/>\n",
              "    <path d=\"M18.56 5.44l.94 2.06.94-2.06 2.06-.94-2.06-.94-.94-2.06-.94 2.06-2.06.94zm-11 1L8.5 8.5l.94-2.06 2.06-.94-2.06-.94L8.5 2.5l-.94 2.06-2.06.94zm10 10l.94 2.06.94-2.06 2.06-.94-2.06-.94-.94-2.06-.94 2.06-2.06.94z\"/><path d=\"M17.41 7.96l-1.37-1.37c-.4-.4-.92-.59-1.43-.59-.52 0-1.04.2-1.43.59L10.3 9.45l-7.72 7.72c-.78.78-.78 2.05 0 2.83L4 21.41c.39.39.9.59 1.41.59.51 0 1.02-.2 1.41-.59l7.78-7.78 2.81-2.81c.8-.78.8-2.07 0-2.86zM5.41 20L4 18.59l7.72-7.72 1.47 1.35L5.41 20z\"/>\n",
              "  </svg>\n",
              "      </button>\n",
              "      \n",
              "  <style>\n",
              "    .colab-df-container {\n",
              "      display:flex;\n",
              "      flex-wrap:wrap;\n",
              "      gap: 12px;\n",
              "    }\n",
              "\n",
              "    .colab-df-convert {\n",
              "      background-color: #E8F0FE;\n",
              "      border: none;\n",
              "      border-radius: 50%;\n",
              "      cursor: pointer;\n",
              "      display: none;\n",
              "      fill: #1967D2;\n",
              "      height: 32px;\n",
              "      padding: 0 0 0 0;\n",
              "      width: 32px;\n",
              "    }\n",
              "\n",
              "    .colab-df-convert:hover {\n",
              "      background-color: #E2EBFA;\n",
              "      box-shadow: 0px 1px 2px rgba(60, 64, 67, 0.3), 0px 1px 3px 1px rgba(60, 64, 67, 0.15);\n",
              "      fill: #174EA6;\n",
              "    }\n",
              "\n",
              "    [theme=dark] .colab-df-convert {\n",
              "      background-color: #3B4455;\n",
              "      fill: #D2E3FC;\n",
              "    }\n",
              "\n",
              "    [theme=dark] .colab-df-convert:hover {\n",
              "      background-color: #434B5C;\n",
              "      box-shadow: 0px 1px 3px 1px rgba(0, 0, 0, 0.15);\n",
              "      filter: drop-shadow(0px 1px 2px rgba(0, 0, 0, 0.3));\n",
              "      fill: #FFFFFF;\n",
              "    }\n",
              "  </style>\n",
              "\n",
              "      <script>\n",
              "        const buttonEl =\n",
              "          document.querySelector('#df-d1916c57-b9e8-46db-b982-8335a12ece5d button.colab-df-convert');\n",
              "        buttonEl.style.display =\n",
              "          google.colab.kernel.accessAllowed ? 'block' : 'none';\n",
              "\n",
              "        async function convertToInteractive(key) {\n",
              "          const element = document.querySelector('#df-d1916c57-b9e8-46db-b982-8335a12ece5d');\n",
              "          const dataTable =\n",
              "            await google.colab.kernel.invokeFunction('convertToInteractive',\n",
              "                                                     [key], {});\n",
              "          if (!dataTable) return;\n",
              "\n",
              "          const docLinkHtml = 'Like what you see? Visit the ' +\n",
              "            '<a target=\"_blank\" href=https://colab.research.google.com/notebooks/data_table.ipynb>data table notebook</a>'\n",
              "            + ' to learn more about interactive tables.';\n",
              "          element.innerHTML = '';\n",
              "          dataTable['output_type'] = 'display_data';\n",
              "          await google.colab.output.renderOutput(dataTable, element);\n",
              "          const docLink = document.createElement('div');\n",
              "          docLink.innerHTML = docLinkHtml;\n",
              "          element.appendChild(docLink);\n",
              "        }\n",
              "      </script>\n",
              "    </div>\n",
              "  </div>\n",
              "  "
            ]
          },
          "metadata": {},
          "execution_count": 10
        }
      ]
    },
    {
      "cell_type": "code",
      "source": [
        "data.shape"
      ],
      "metadata": {
        "colab": {
          "base_uri": "https://localhost:8080/"
        },
        "id": "g9Un7D1n7AVL",
        "outputId": "f2e2c64d-ab25-4630-8753-4695f57f94d9"
      },
      "execution_count": 11,
      "outputs": [
        {
          "output_type": "execute_result",
          "data": {
            "text/plain": [
              "(7580, 110)"
            ]
          },
          "metadata": {},
          "execution_count": 11
        }
      ]
    },
    {
      "cell_type": "code",
      "source": [
        "plt.plot(data['nhospitals'])\n",
        "plt.xlabel('Index')\n",
        "plt.ylabel('No of hospitals in open response')"
      ],
      "metadata": {
        "colab": {
          "base_uri": "https://localhost:8080/",
          "height": 296
        },
        "id": "dQYM-ArF697Q",
        "outputId": "faf64512-d68b-4540-aef1-a4e069bb1fc4"
      },
      "execution_count": 12,
      "outputs": [
        {
          "output_type": "execute_result",
          "data": {
            "text/plain": [
              "Text(0, 0.5, 'No of hospitals in open response')"
            ]
          },
          "metadata": {},
          "execution_count": 12
        },
        {
          "output_type": "display_data",
          "data": {
            "text/plain": [
              "<Figure size 432x288 with 1 Axes>"
            ],
            "image/png": "[encoded data removed]"
          },
          "metadata": {
            "needs_background": "light"
          }
        }
      ]
    },
    {
      "cell_type": "code",
      "source": [
        "rel_data = data[data['nhospitals'] > 0]\n",
        "\n",
        "arr = plt.hist(rel_data['nhospitals'], bins=7, rwidth=0.7, align='left')\n",
        "my_bins = len(arr[0])\n",
        "for i in range(my_bins):\n",
        "    plt.text(arr[1][i],arr[0][i],str(arr[0][i]))\n",
        "\n",
        "plt.xlabel('Number of Hospitals Visited')\n",
        "plt.ylabel('Number of Patients')\n",
        "\n"
      ],
      "metadata": {
        "colab": {
          "base_uri": "https://localhost:8080/",
          "height": 296
        },
        "id": "obHMeWoE69w2",
        "outputId": "4e544cb3-f3d4-4f46-f0b9-9f97d9f26728"
      },
      "execution_count": 13,
      "outputs": [
        {
          "output_type": "execute_result",
          "data": {
            "text/plain": [
              "Text(0, 0.5, 'Number of Patients')"
            ]
          },
          "metadata": {},
          "execution_count": 13
        },
        {
          "output_type": "display_data",
          "data": {
            "text/plain": [
              "<Figure size 432x288 with 1 Axes>"
            ],
            "image/png": "[encoded data removed]"
          },
          "metadata": {
            "needs_background": "light"
          }
        }
      ]
    },
    {
      "cell_type": "code",
      "source": [
        "# find which rows in data has a string under column g5_06a\n",
        "data['g5_06a'] = data['g5_06a'].astype(int)"
      ],
      "metadata": {
        "id": "TqxgfGM9WK8t"
      },
      "execution_count": 14,
      "outputs": []
    },
    {
      "cell_type": "code",
      "source": [
        "# primary_schooling is 1, no schooling is 2\n",
        "# we want to switch these 2 values\n",
        "data[data['g5_06a'] == 1 ] = 0\n",
        "data[data['g5_06a'] == 2 ] = 1\n",
        "data[data['g5_06a'] == 0 ] = 2"
      ],
      "metadata": {
        "id": "eyA4B-1sbTHh"
      },
      "execution_count": 15,
      "outputs": []
    },
    {
      "cell_type": "code",
      "source": [
        "# deleting rows with unknown education i.e. 5\n",
        "print(\"Data shape before: \", data.shape)\n",
        "data = data[data['g5_06a'] != 5]\n",
        "print(\"Data shape after: \", data.shape)"
      ],
      "metadata": {
        "colab": {
          "base_uri": "https://localhost:8080/"
        },
        "id": "v1oHOj7ob5aq",
        "outputId": "2b3033a7-1a4c-4d2b-951d-0b57a59b0361"
      },
      "execution_count": 16,
      "outputs": [
        {
          "output_type": "stream",
          "name": "stdout",
          "text": [
            "Data shape before:  (7580, 110)\n",
            "Data shape after:  (7488, 110)\n"
          ]
        }
      ]
    },
    {
      "cell_type": "code",
      "source": [
        "#correlation between number of hospitals visited per case and level of education of patient\n",
        "corr_val = data['nhospitals'].corr(data['g5_06a'])\n",
        "print(corr_val)\n"
      ],
      "metadata": {
        "colab": {
          "base_uri": "https://localhost:8080/"
        },
        "id": "3M_TtnBB69ri",
        "outputId": "08a51985-9f5b-4360-fe5e-9c3174678a75"
      },
      "execution_count": 17,
      "outputs": [
        {
          "output_type": "stream",
          "name": "stdout",
          "text": [
            "-0.29271987715055175\n"
          ]
        }
      ]
    },
    {
      "cell_type": "code",
      "source": [
        "# find which rows in data has a nan and exclude those rows under column g4_08\n",
        "data = data[~data['g4_08'].isna()]"
      ],
      "metadata": {
        "id": "jK30gQFcnFQi"
      },
      "execution_count": 18,
      "outputs": []
    },
    {
      "cell_type": "code",
      "source": [
        "# check how many NaNs in g4_08. should be zero\n",
        "data['g4_08'].isna().sum()"
      ],
      "metadata": {
        "colab": {
          "base_uri": "https://localhost:8080/"
        },
        "id": "7cnN5ISVnnPQ",
        "outputId": "bfb5c0cb-aa45-4d6f-9f61-60c0447623d2"
      },
      "execution_count": 19,
      "outputs": [
        {
          "output_type": "execute_result",
          "data": {
            "text/plain": [
              "0"
            ]
          },
          "metadata": {},
          "execution_count": 19
        }
      ]
    },
    {
      "cell_type": "code",
      "source": [
        "# find which rows in data has a string under column g4_08\n",
        "data['g4_08'] = data['g4_08'].astype(int)"
      ],
      "metadata": {
        "id": "HwwBZJscn-X6"
      },
      "execution_count": 20,
      "outputs": []
    },
    {
      "cell_type": "code",
      "source": [
        "corr_val = data['nhospitals'].corr(data['g4_08'])\n",
        "print(corr_val)"
      ],
      "metadata": {
        "colab": {
          "base_uri": "https://localhost:8080/"
        },
        "id": "IQWHUb2kmlNr",
        "outputId": "d4afb3c8-a655-4c0b-9f1f-69960327ffcf"
      },
      "execution_count": 21,
      "outputs": [
        {
          "output_type": "stream",
          "name": "stdout",
          "text": [
            "0.690069328358475\n"
          ]
        }
      ]
    },
    {
      "cell_type": "code",
      "source": [
        "data['gs_text34_x'] = data['gs_text34_x'].astype(int) # change dtype from object to int"
      ],
      "metadata": {
        "id": "mW1XaqCCNJqf"
      },
      "execution_count": 22,
      "outputs": []
    },
    {
      "cell_type": "code",
      "source": [
        "# create a new column\n",
        "data['cause_of_death'] = data[\"gs_text34_x\"]\n",
        "\n",
        "# set all of these classes to class 1 - CANCERS\n",
        "data['cause_of_death'][data['gs_text34_x'].isin([9, 22, 26, 29, 30, 32, 33, 34])] = 1\n",
        "\n",
        "# set all of these classes to class 2 - ACCIDENTS\n",
        "data['cause_of_death'][data['gs_text34_x'].isin([6, 11, 14, 15, 16, 31])] = 2\n",
        "\n",
        "# set all of these classes to class 3 - DISEASES\n",
        "data['cause_of_death'][data['gs_text34_x'].isin([3, 8, 10, 19, 24, 28])] = 3\n",
        "\n",
        "# set all of these classes to class 4 - HEART RELATED\n",
        "data['cause_of_death'][data['gs_text34_x'].isin([4, 5, 12, 17, 25])] = 4\n",
        "\n",
        "# set all of these classes to class 5 - BRAIN\n",
        "data['cause_of_death'][data['gs_text34_x'].isin([2, 23])] = 5\n",
        "\n",
        "# set all of these classes to class 6 - LIVER\n",
        "data['cause_of_death'][data['gs_text34_x'].isin([1, 7])] = 6\n",
        "\n",
        "# set all of these classes to class 7 - OTHER REASONS\n",
        "data['cause_of_death'][data['gs_text34_x'].isin([13, 18, 21])] = 7\n",
        "\n",
        "# set all of these classes to class 8 - SUICIDE\n",
        "data['cause_of_death'][data['gs_text34_x'].isin([20])] = 8\n",
        "\n",
        "# set all of these classes to class 9 - HOMICIDE\n",
        "data['cause_of_death'][data['gs_text34_x'].isin([27])] = 9\n"
      ],
      "metadata": {
        "colab": {
          "base_uri": "https://localhost:8080/"
        },
        "id": "3jAKBNeYvktE",
        "outputId": "567e18dc-3fde-487e-95a3-0bffebb2efb3"
      },
      "execution_count": 23,
      "outputs": [
        {
          "output_type": "stream",
          "name": "stderr",
          "text": [
            "/usr/local/lib/python3.7/dist-packages/ipykernel_launcher.py:5: SettingWithCopyWarning: \n",
            "A value is trying to be set on a copy of a slice from a DataFrame\n",
            "\n",
            "See the caveats in the documentation: https://pandas.pydata.org/pandas-docs/stable/user_guide/indexing.html#returning-a-view-versus-a-copy\n",
            "  \"\"\"\n",
            "/usr/local/lib/python3.7/dist-packages/ipykernel_launcher.py:8: SettingWithCopyWarning: \n",
            "A value is trying to be set on a copy of a slice from a DataFrame\n",
            "\n",
            "See the caveats in the documentation: https://pandas.pydata.org/pandas-docs/stable/user_guide/indexing.html#returning-a-view-versus-a-copy\n",
            "  \n",
            "/usr/local/lib/python3.7/dist-packages/ipykernel_launcher.py:11: SettingWithCopyWarning: \n",
            "A value is trying to be set on a copy of a slice from a DataFrame\n",
            "\n",
            "See the caveats in the documentation: https://pandas.pydata.org/pandas-docs/stable/user_guide/indexing.html#returning-a-view-versus-a-copy\n",
            "  # This is added back by InteractiveShellApp.init_path()\n",
            "/usr/local/lib/python3.7/dist-packages/ipykernel_launcher.py:14: SettingWithCopyWarning: \n",
            "A value is trying to be set on a copy of a slice from a DataFrame\n",
            "\n",
            "See the caveats in the documentation: https://pandas.pydata.org/pandas-docs/stable/user_guide/indexing.html#returning-a-view-versus-a-copy\n",
            "  \n",
            "/usr/local/lib/python3.7/dist-packages/ipykernel_launcher.py:17: SettingWithCopyWarning: \n",
            "A value is trying to be set on a copy of a slice from a DataFrame\n",
            "\n",
            "See the caveats in the documentation: https://pandas.pydata.org/pandas-docs/stable/user_guide/indexing.html#returning-a-view-versus-a-copy\n",
            "/usr/local/lib/python3.7/dist-packages/ipykernel_launcher.py:20: SettingWithCopyWarning: \n",
            "A value is trying to be set on a copy of a slice from a DataFrame\n",
            "\n",
            "See the caveats in the documentation: https://pandas.pydata.org/pandas-docs/stable/user_guide/indexing.html#returning-a-view-versus-a-copy\n",
            "/usr/local/lib/python3.7/dist-packages/ipykernel_launcher.py:23: SettingWithCopyWarning: \n",
            "A value is trying to be set on a copy of a slice from a DataFrame\n",
            "\n",
            "See the caveats in the documentation: https://pandas.pydata.org/pandas-docs/stable/user_guide/indexing.html#returning-a-view-versus-a-copy\n",
            "/usr/local/lib/python3.7/dist-packages/ipykernel_launcher.py:26: SettingWithCopyWarning: \n",
            "A value is trying to be set on a copy of a slice from a DataFrame\n",
            "\n",
            "See the caveats in the documentation: https://pandas.pydata.org/pandas-docs/stable/user_guide/indexing.html#returning-a-view-versus-a-copy\n",
            "/usr/local/lib/python3.7/dist-packages/ipykernel_launcher.py:29: SettingWithCopyWarning: \n",
            "A value is trying to be set on a copy of a slice from a DataFrame\n",
            "\n",
            "See the caveats in the documentation: https://pandas.pydata.org/pandas-docs/stable/user_guide/indexing.html#returning-a-view-versus-a-copy\n"
          ]
        }
      ]
    },
    {
      "cell_type": "code",
      "source": [
        "# print all unique values in cause of death - newly created column \n",
        "data['cause_of_death'].unique()"
      ],
      "metadata": {
        "colab": {
          "base_uri": "https://localhost:8080/"
        },
        "id": "WfC2sXuIQtM1",
        "outputId": "35bcf870-b6fa-41cc-bf9e-f8c410e19adc"
      },
      "execution_count": 24,
      "outputs": [
        {
          "output_type": "execute_result",
          "data": {
            "text/plain": [
              "array([5, 6, 4, 2, 3, 1, 9, 7, 8])"
            ]
          },
          "metadata": {},
          "execution_count": 24
        }
      ]
    },
    {
      "cell_type": "code",
      "source": [
        "from sklearn import metrics\n",
        "from sklearn.model_selection import train_test_split\n",
        "from sklearn.ensemble import RandomForestClassifier"
      ],
      "metadata": {
        "id": "NBrvi-g-Wec2"
      },
      "execution_count": 25,
      "outputs": []
    },
    {
      "cell_type": "code",
      "source": [
        "# these are the features that the model will train on to predict cause of death\n",
        "X = data[['g5_06a', 'g4_08']]\n",
        "# this is the ground truth - we know that this info is true \n",
        "y = data['cause_of_death']\n",
        "\n",
        "X_train, X_test, y_train, y_test = train_test_split(X, y, test_size=0.3)\n",
        "\n",
        "# Instantiate model\n",
        "model1 = RandomForestClassifier(n_estimators=200)\n",
        "\n",
        "# train model\n",
        "model1.fit(X_train, y_train)"
      ],
      "metadata": {
        "colab": {
          "base_uri": "https://localhost:8080/"
        },
        "id": "s_Lq5dM1RcMP",
        "outputId": "10c993d1-9c32-4d99-f00f-008e15b86b2f"
      },
      "execution_count": 26,
      "outputs": [
        {
          "output_type": "execute_result",
          "data": {
            "text/plain": [
              "RandomForestClassifier(n_estimators=200)"
            ]
          },
          "metadata": {},
          "execution_count": 26
        }
      ]
    },
    {
      "cell_type": "code",
      "source": [
        "# predict on test set\n",
        "y_pred1 = model1.predict(X_test)\n",
        "score1 = metrics.accuracy_score(y_test, y_pred1)\n",
        "print(\"Accuracy of model 1 is: \", score1)"
      ],
      "metadata": {
        "colab": {
          "base_uri": "https://localhost:8080/"
        },
        "id": "fQ9dESo-WLhR",
        "outputId": "c8118ead-eace-4dac-cd6f-f0df2eb31096"
      },
      "execution_count": 27,
      "outputs": [
        {
          "output_type": "stream",
          "name": "stdout",
          "text": [
            "Accuracy of model 1 is:  0.7513368983957219\n"
          ]
        }
      ]
    },
    {
      "cell_type": "code",
      "source": [
        "# this is model 2\n",
        "\n",
        "# these are the features that the model will train on to predict cause of death\n",
        "X = data[['g5_06a', 'g4_08', 'nhospitals']]\n",
        "# this is the ground truth - we know that this info is true \n",
        "y = data['cause_of_death']\n",
        "\n",
        "X_train, X_test, y_train, y_test = train_test_split(X, y, test_size=0.3)\n",
        "\n",
        "# Instantiate model\n",
        "model2 = RandomForestClassifier(n_estimators=200)\n",
        "\n",
        "# train model\n",
        "model2.fit(X_train, y_train)"
      ],
      "metadata": {
        "colab": {
          "base_uri": "https://localhost:8080/"
        },
        "id": "5w7BcPp8XQxf",
        "outputId": "3306fc18-625e-487a-88d9-c67c17673c81"
      },
      "execution_count": 28,
      "outputs": [
        {
          "output_type": "execute_result",
          "data": {
            "text/plain": [
              "RandomForestClassifier(n_estimators=200)"
            ]
          },
          "metadata": {},
          "execution_count": 28
        }
      ]
    },
    {
      "cell_type": "code",
      "source": [],
      "metadata": {
        "id": "u1ssv-FiINvp"
      },
      "execution_count": 28,
      "outputs": []
    },
    {
      "cell_type": "code",
      "source": [
        "# predict on test set\n",
        "y_pred2 = model2.predict(X_test)\n",
        "score2 = metrics.accuracy_score(y_test, y_pred2)\n",
        "print(\"Accuracy of model 2 is:\", score2)\n",
        "\n",
        "# if I want to reduce the decimal -- print(\"Accuracy of model 2 is: {0:.2f}\".format(score2))"
      ],
      "metadata": {
        "colab": {
          "base_uri": "https://localhost:8080/"
        },
        "id": "LC4mmWp4XQoo",
        "outputId": "2641ade2-0ac6-496e-c776-e12a0cb8c860"
      },
      "execution_count": 29,
      "outputs": [
        {
          "output_type": "stream",
          "name": "stdout",
          "text": [
            "Accuracy of model 2 is: 0.7486631016042781\n"
          ]
        }
      ]
    },
    {
      "cell_type": "code",
      "source": [
        "# these are the features that the model will train on to predict cause of death\n",
        "X = data[['g4_08', 'nhospitals']]\n",
        "# this is the ground truth - we know that this info is true \n",
        "y = data['gs_text34_x']\n",
        "\n",
        "X_train, X_test, y_train, y_test = train_test_split(X, y, test_size=0.3)\n",
        "\n",
        "# Instantiate model\n",
        "model3 = RandomForestClassifier(n_estimators=200)\n",
        "\n",
        "# train model\n",
        "model3.fit(X_train, y_train)"
      ],
      "metadata": {
        "colab": {
          "base_uri": "https://localhost:8080/"
        },
        "id": "g5VC_QHsIPof",
        "outputId": "5c3e9b1f-b8f7-441a-c6c2-95eae2f382cb"
      },
      "execution_count": 30,
      "outputs": [
        {
          "output_type": "execute_result",
          "data": {
            "text/plain": [
              "RandomForestClassifier(n_estimators=200)"
            ]
          },
          "metadata": {},
          "execution_count": 30
        }
      ]
    },
    {
      "cell_type": "code",
      "source": [
        "# predict on test set\n",
        "y_pred3 = model3.predict(X_test)\n",
        "score3 = metrics.accuracy_score(y_test, y_pred3)\n",
        "print(\"Accuracy of model 3 is: \", score3)"
      ],
      "metadata": {
        "colab": {
          "base_uri": "https://localhost:8080/"
        },
        "id": "I0DEbBQ4IX-Z",
        "outputId": "45e69c50-f2bd-424d-8400-64996591d4f1"
      },
      "execution_count": 31,
      "outputs": [
        {
          "output_type": "stream",
          "name": "stdout",
          "text": [
            "Accuracy of model 3 is:  0.7040998217468806\n"
          ]
        }
      ]
    },
    {
      "cell_type": "code",
      "source": [
        "# these are the features that the model will train on to predict cause of death\n",
        "#dc = death certificate issued or not \n",
        "data_dc = data[~data['a6_09'].isna()]\n",
        "X = data_dc[['a6_09']]\n",
        "X = X.dropna()\n",
        "# this is the ground truth - we know that this info is true \n",
        "y = data_dc['gs_text34_x']\n",
        "\n",
        "X_train, X_test, y_train, y_test = train_test_split(X, y, test_size=0.3)\n",
        "\n",
        "# Instantiate model\n",
        "model4 = RandomForestClassifier(n_estimators=200)\n",
        "\n",
        "# train model\n",
        "model4.fit(X_train, y_train)"
      ],
      "metadata": {
        "colab": {
          "base_uri": "https://localhost:8080/"
        },
        "id": "cRUWCABRJxm9",
        "outputId": "11bbff49-ebae-455f-88c4-0c9089436bea"
      },
      "execution_count": 32,
      "outputs": [
        {
          "output_type": "execute_result",
          "data": {
            "text/plain": [
              "RandomForestClassifier(n_estimators=200)"
            ]
          },
          "metadata": {},
          "execution_count": 32
        }
      ]
    },
    {
      "cell_type": "code",
      "source": [
        "# predict on test set\n",
        "y_pred4 = model4.predict(X_test)\n",
        "score4 = metrics.accuracy_score(y_test, y_pred4)\n",
        "print(\"Accuracy of model 4 is: \", score4)"
      ],
      "metadata": {
        "id": "kXcowLn_Xu0Q",
        "colab": {
          "base_uri": "https://localhost:8080/"
        },
        "outputId": "6a334de1-edfa-4986-9253-e747c9025137"
      },
      "execution_count": 33,
      "outputs": [
        {
          "output_type": "stream",
          "name": "stdout",
          "text": [
            "Accuracy of model 4 is:  0.6970509383378016\n"
          ]
        }
      ]
    },
    {
      "cell_type": "code",
      "source": [
        "# these are the features that the model will train on to predict cause of death\n",
        "#dc = death certificate issued or not \n",
        "data_dc = data[~data['a6_09'].isna()]\n",
        "X = data_dc[['a6_09', 'nhospitals']]\n",
        "X = X.dropna()\n",
        "# this is the ground truth - we know that this info is true \n",
        "y = data_dc['gs_text34_x']\n",
        "\n",
        "X_train, X_test, y_train, y_test = train_test_split(X, y, test_size=0.3)\n",
        "\n",
        "# Instantiate model\n",
        "model5 = RandomForestClassifier(n_estimators=200)\n",
        "\n",
        "# train model\n",
        "model5.fit(X_train, y_train)"
      ],
      "metadata": {
        "colab": {
          "base_uri": "https://localhost:8080/"
        },
        "id": "w0pMDJzETxFa",
        "outputId": "19555d07-62cf-4ab7-8b28-a2bd8ed524bf"
      },
      "execution_count": 34,
      "outputs": [
        {
          "output_type": "execute_result",
          "data": {
            "text/plain": [
              "RandomForestClassifier(n_estimators=200)"
            ]
          },
          "metadata": {},
          "execution_count": 34
        }
      ]
    },
    {
      "cell_type": "code",
      "source": [
        "# predict on test set\n",
        "y_pred5 = model5.predict(X_test)\n",
        "score5 = metrics.accuracy_score(y_test, y_pred5)\n",
        "print(\"Accuracy of model 5 is: \", score5)"
      ],
      "metadata": {
        "colab": {
          "base_uri": "https://localhost:8080/"
        },
        "id": "sODOzM06UFl-",
        "outputId": "6ac4675e-142c-4eda-9a89-597f1e66fb2b"
      },
      "execution_count": 35,
      "outputs": [
        {
          "output_type": "stream",
          "name": "stdout",
          "text": [
            "Accuracy of model 5 is:  0.7135835567470956\n"
          ]
        }
      ]
    },
    {
      "cell_type": "code",
      "source": [
        "# these are the features that the model will train on to predict cause of death\n",
        "#dc = death certificate seen by the interviewer or not \n",
        "data_dc = data[~data['a6_10'].isna()]\n",
        "X = data_dc[['a6_10']]\n",
        "X = X.dropna()\n",
        "# this is the ground truth - we know that this info is true \n",
        "y = data_dc['gs_text34_x']\n",
        "\n",
        "X_train, X_test, y_train, y_test = train_test_split(X, y, test_size=0.3)\n",
        "\n",
        "# Instantiate model\n",
        "model7 = RandomForestClassifier(n_estimators=200)\n",
        "\n",
        "# train model\n",
        "model7.fit(X_train, y_train)"
      ],
      "metadata": {
        "colab": {
          "base_uri": "https://localhost:8080/"
        },
        "id": "-HfjOj_hRxAF",
        "outputId": "330afbe8-4060-4c7b-c663-073ae8b5fafe"
      },
      "execution_count": 36,
      "outputs": [
        {
          "output_type": "execute_result",
          "data": {
            "text/plain": [
              "RandomForestClassifier(n_estimators=200)"
            ]
          },
          "metadata": {},
          "execution_count": 36
        }
      ]
    },
    {
      "cell_type": "code",
      "source": [
        "# predict on test set\n",
        "y_pred7 = model7.predict(X_test)\n",
        "score7 = metrics.accuracy_score(y_test, y_pred7)\n",
        "print(\"Accuracy of model 7 is: \", score7)"
      ],
      "metadata": {
        "colab": {
          "base_uri": "https://localhost:8080/"
        },
        "id": "9Gm9-8SPR9_Z",
        "outputId": "c06ede11-5691-4e55-80ed-2bb20e6905f0"
      },
      "execution_count": 37,
      "outputs": [
        {
          "output_type": "stream",
          "name": "stdout",
          "text": [
            "Accuracy of model 7 is:  0.698306595365419\n"
          ]
        }
      ]
    },
    {
      "cell_type": "code",
      "source": [
        "# these are the features that the model will train on to predict cause of death\n",
        "#dc = death certificate seen by the interviewer or not \n",
        "data_dc = data[~data['a6_10'].isna()]\n",
        "X = data_dc[['a6_10']]\n",
        "X = X.dropna()\n",
        "# this is the ground truth - we know that this info is true \n",
        "y = data_dc['gs_text34_x']\n",
        "\n",
        "X_train, X_test, y_train, y_test = train_test_split(X, y, test_size=0.3)\n",
        "\n",
        "# Instantiate model\n",
        "model8 = RandomForestClassifier(n_estimators=200)\n",
        "\n",
        "# train model\n",
        "model8.fit(X_train, y_train)"
      ],
      "metadata": {
        "colab": {
          "base_uri": "https://localhost:8080/"
        },
        "id": "-Z00htoXUv-5",
        "outputId": "1fcc73e6-83fe-48b4-f1e3-4539639b8113"
      },
      "execution_count": 38,
      "outputs": [
        {
          "output_type": "execute_result",
          "data": {
            "text/plain": [
              "RandomForestClassifier(n_estimators=200)"
            ]
          },
          "metadata": {},
          "execution_count": 38
        }
      ]
    },
    {
      "cell_type": "code",
      "source": [
        "# predict on test set\n",
        "y_pred8 = model8.predict(X_test)\n",
        "score8 = metrics.accuracy_score(y_test, y_pred8)\n",
        "print(\"Accuracy of model 8 is: \", score8)"
      ],
      "metadata": {
        "colab": {
          "base_uri": "https://localhost:8080/"
        },
        "id": "Kjw18MSKU3Ud",
        "outputId": "c0e045e7-bc39-4b42-8ea3-fd63a4114a04"
      },
      "execution_count": 39,
      "outputs": [
        {
          "output_type": "stream",
          "name": "stdout",
          "text": [
            "Accuracy of model 8 is:  0.6978609625668449\n"
          ]
        }
      ]
    },
    {
      "cell_type": "markdown",
      "source": [
        "# New Section"
      ],
      "metadata": {
        "id": "wNt3gc9FVXEa"
      }
    },
    {
      "cell_type": "code",
      "source": [
        "# Count the Number of Occurrences of '10' (Maternal causes of death) in the list 'gs_text34_x using .count()\n",
        "items = data['gs_text34_x']\n",
        "counts = items.value_counts()\n",
        "print('Count = ', counts[10])\n",
        "\n",
        "#items.shape means printing the total number of items present in the column\n",
        "#items.head() means printing the first 5 rows of that dataframe\n",
        "#from 'data_verbal_autopsies.csv' import gs_text34_x\n",
        "#counts = "
      ],
      "metadata": {
        "id": "G2dcV6MxXkh5",
        "colab": {
          "base_uri": "https://localhost:8080/"
        },
        "outputId": "3eda893c-8bd9-4273-ce79-dd62a8b34837"
      },
      "execution_count": 40,
      "outputs": [
        {
          "output_type": "stream",
          "name": "stdout",
          "text": [
            "Count =  129\n"
          ]
        }
      ]
    },
    {
      "cell_type": "code",
      "source": [
        "print('percentage of occurrences of 10=', 100*counts[10]/items.shape[0])"
      ],
      "metadata": {
        "colab": {
          "base_uri": "https://localhost:8080/"
        },
        "id": "L-Vd7E2YBQ4D",
        "outputId": "1ae465ba-9218-4226-b76b-b2d6aabf8553"
      },
      "execution_count": 41,
      "outputs": [
        {
          "output_type": "stream",
          "name": "stdout",
          "text": [
            "percentage of occurrences of 10= 1.7250601765177855\n"
          ]
        }
      ]
    },
    {
      "cell_type": "code",
      "source": [
        "data.shape[0]"
      ],
      "metadata": {
        "colab": {
          "base_uri": "https://localhost:8080/"
        },
        "id": "KfYCmsVC_xpW",
        "outputId": "d6719f60-ba8a-4ae0-be6b-50972f35685e"
      },
      "execution_count": 42,
      "outputs": [
        {
          "output_type": "execute_result",
          "data": {
            "text/plain": [
              "7478"
            ]
          },
          "metadata": {},
          "execution_count": 42
        }
      ]
    }
  ]
}